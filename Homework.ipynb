{
 "cells": [
  {
   "cell_type": "code",
   "execution_count": null,
   "id": "755a5f63",
   "metadata": {},
   "outputs": [],
   "source": [
    "'''\n",
    "Kadangi startapas gauna el pasta, jis taip pat turi sugebeti atsakyti i emaila\n",
    "\n",
    "'''\n",
    "#Biblioteka siusti el pasta\n",
    "import smtplib\n",
    "#Biblioteka, kad saugiai ivesti slaptazodi\n",
    "import getpass\n",
    "\n",
    "#Prisijungiame prie gmail serverio\n",
    "smtp_object = smtplib.SMTP('smtp.gmail.com',587)\n",
    "smtp_object.ehlo()\n",
    "smtp_object.starttls()\n",
    "\n",
    "\n",
    "#Prisijungiame prie el pasto\n",
    "email = getpass.getpass(\"Enter your email: \")\n",
    "password = getpass.getpass(\"Enter your password: \")\n",
    "smtp_object.login(email,password)\n",
    "\n",
    "#Siunciame zinute\n",
    "from_address = getpass.getpass(\"Enter your email: \")\n",
    "to_address = getpass.getpass(\"Enter the email of the recipient: \")\n",
    "subject = input(\"Enter the subject line: \")\n",
    "message = input(\"Type out the message you want to send: \")\n",
    "msg = \"Subject: \" + subject + '\\n' + message\n",
    "smtp_object.sendmail(from_address,to_address,msg)"
   ]
  },
  {
   "cell_type": "code",
   "execution_count": null,
   "id": "7e94b57c",
   "metadata": {},
   "outputs": [],
   "source": [
    "'''\n",
    "Su pythonu galima siusti el pasta. Su pythonu taip pat galima gauti el pasta :) \n",
    "'''\n",
    "\n",
    "#Biblioteka gauti el pasta\n",
    "import imaplib\n",
    "\n",
    "#Biblioteka, kad saugiai ivesti pasta\n",
    "import getpass\n",
    "\n",
    "M = imaplib.IMAP4_SSL('imap.gmail.com')\n",
    "\n",
    "#Prisijungiame prie el pasto\n",
    "email = getpass.getpass(\"Enter your email: \")\n",
    "password = getpass.getpass(\"Enter your password: \")\n",
    "smtp_object.login(email,password)"
   ]
  },
  {
   "cell_type": "code",
   "execution_count": null,
   "id": "6ebf9eb2",
   "metadata": {},
   "outputs": [],
   "source": [
    "M.login(email,password)\n",
    "#Filtruojame,kad matytumeme gautas zinutes\n",
    "M.select(\"inbox\")\n",
    "#FIN!"
   ]
  }
 ],
 "metadata": {
  "kernelspec": {
   "display_name": "Python 3 (ipykernel)",
   "language": "python",
   "name": "python3"
  },
  "language_info": {
   "codemirror_mode": {
    "name": "ipython",
    "version": 3
   },
   "file_extension": ".py",
   "mimetype": "text/x-python",
   "name": "python",
   "nbconvert_exporter": "python",
   "pygments_lexer": "ipython3",
   "version": "3.9.9"
  }
 },
 "nbformat": 4,
 "nbformat_minor": 5
}
